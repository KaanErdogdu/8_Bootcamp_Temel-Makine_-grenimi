{
  "nbformat": 4,
  "nbformat_minor": 0,
  "metadata": {
    "colab": {
      "name": "8_2_Odev_Karar_Agacları.ipynb",
      "provenance": [],
      "collapsed_sections": [],
      "authorship_tag": "ABX9TyP1+J/mAwJmWa1EXo3wg+P5",
      "include_colab_link": true
    },
    "kernelspec": {
      "name": "python3",
      "display_name": "Python 3"
    }
  },
  "cells": [
    {
      "cell_type": "markdown",
      "metadata": {
        "id": "view-in-github",
        "colab_type": "text"
      },
      "source": [
        "<a href=\"https://colab.research.google.com/github/KaanErdogdu/8_Bootcamp_Temel-Makine_Ogrenimi/blob/master/8_2_Odev_Karar_Agaclar%C4%B1.ipynb\" target=\"_parent\"><img src=\"https://colab.research.google.com/assets/colab-badge.svg\" alt=\"Open In Colab\"/></a>"
      ]
    },
    {
      "cell_type": "code",
      "metadata": {
        "id": "wHfwYXj1ToPq",
        "colab_type": "code",
        "colab": {}
      },
      "source": [
        "import matplotlib.pyplot as plt\n",
        "import seaborn as sns\n",
        "import numpy as np\n",
        "import pandas as pd\n",
        "import scipy.stats as stats\n",
        "from scipy.stats.mstats import winsorize\n",
        "from sqlalchemy import create_engine\n",
        "from sklearn.model_selection import train_test_split\n",
        "from sklearn.linear_model import LogisticRegression\n",
        "import warnings\n",
        "import datetime as dt\n",
        "import scipy\n",
        "from sklearn.tree import DecisionTreeClassifier, export_graphviz\n",
        "import pydotplus\n",
        "import graphviz\n",
        "from sklearn.metrics import accuracy_score\n",
        "\n",
        "import re\n",
        "from sklearn import datasets\n",
        "iris = datasets.load_iris()\n",
        "import warnings\n",
        "warnings.filterwarnings('ignore')"
      ],
      "execution_count": 23,
      "outputs": []
    },
    {
      "cell_type": "code",
      "metadata": {
        "id": "uCE8ETanT7iZ",
        "colab_type": "code",
        "colab": {}
      },
      "source": [
        "projelogi=pd.read_csv(\"Logistic Reg Teknosa.csv\")"
      ],
      "execution_count": 3,
      "outputs": []
    },
    {
      "cell_type": "code",
      "metadata": {
        "id": "PQc0AfrnUwIR",
        "colab_type": "code",
        "colab": {
          "base_uri": "https://localhost:8080/",
          "height": 530
        },
        "outputId": "ca7a5e5b-8b0d-41ef-9ba1-1f8991f10746"
      },
      "source": [
        "projelogi.head()"
      ],
      "execution_count": 4,
      "outputs": [
        {
          "output_type": "execute_result",
          "data": {
            "text/html": [
              "<div>\n",
              "<style scoped>\n",
              "    .dataframe tbody tr th:only-of-type {\n",
              "        vertical-align: middle;\n",
              "    }\n",
              "\n",
              "    .dataframe tbody tr th {\n",
              "        vertical-align: top;\n",
              "    }\n",
              "\n",
              "    .dataframe thead th {\n",
              "        text-align: right;\n",
              "    }\n",
              "</style>\n",
              "<table border=\"1\" class=\"dataframe\">\n",
              "  <thead>\n",
              "    <tr style=\"text-align: right;\">\n",
              "      <th></th>\n",
              "      <th>Week (Mon-Sun)</th>\n",
              "      <th>Custom dimension 1</th>\n",
              "      <th>Sessions</th>\n",
              "      <th>Avg. pageviews per session</th>\n",
              "      <th>Avg. session length (sec)</th>\n",
              "      <th>Product Detail Views</th>\n",
              "      <th>Product List Clicks</th>\n",
              "      <th>Product Adds To Cart</th>\n",
              "      <th>Product Checkouts</th>\n",
              "      <th>Transactions</th>\n",
              "    </tr>\n",
              "  </thead>\n",
              "  <tbody>\n",
              "    <tr>\n",
              "      <th>0</th>\n",
              "      <td>2020|29</td>\n",
              "      <td>731C0F2E-DDC3-E811-90F9-00155D619647</td>\n",
              "      <td>189.0</td>\n",
              "      <td>4.89</td>\n",
              "      <td>311.0</td>\n",
              "      <td>1772.0</td>\n",
              "      <td>20.0</td>\n",
              "      <td>6.0</td>\n",
              "      <td>61.0</td>\n",
              "      <td>0.0</td>\n",
              "    </tr>\n",
              "    <tr>\n",
              "      <th>1</th>\n",
              "      <td>2020|30</td>\n",
              "      <td>4283B82C-20B2-EA11-80D0-00155D61134E</td>\n",
              "      <td>163.0</td>\n",
              "      <td>16.90</td>\n",
              "      <td>145.0</td>\n",
              "      <td>447.0</td>\n",
              "      <td>156.0</td>\n",
              "      <td>156.0</td>\n",
              "      <td>2067.0</td>\n",
              "      <td>14.0</td>\n",
              "    </tr>\n",
              "    <tr>\n",
              "      <th>2</th>\n",
              "      <td>2020|29</td>\n",
              "      <td>4A1E910F-F5B2-EA11-80D5-00155D7CD320</td>\n",
              "      <td>139.0</td>\n",
              "      <td>6.47</td>\n",
              "      <td>626.0</td>\n",
              "      <td>892.0</td>\n",
              "      <td>128.0</td>\n",
              "      <td>7.0</td>\n",
              "      <td>105.0</td>\n",
              "      <td>0.0</td>\n",
              "    </tr>\n",
              "    <tr>\n",
              "      <th>3</th>\n",
              "      <td>2020|29</td>\n",
              "      <td>4283B82C-20B2-EA11-80D0-00155D61134E</td>\n",
              "      <td>137.0</td>\n",
              "      <td>12.83</td>\n",
              "      <td>181.0</td>\n",
              "      <td>171.0</td>\n",
              "      <td>59.0</td>\n",
              "      <td>58.0</td>\n",
              "      <td>793.0</td>\n",
              "      <td>11.0</td>\n",
              "    </tr>\n",
              "    <tr>\n",
              "      <th>4</th>\n",
              "      <td>2020|28</td>\n",
              "      <td>73982672-3C90-E911-80CB-00155D61134E</td>\n",
              "      <td>121.0</td>\n",
              "      <td>5.83</td>\n",
              "      <td>684.0</td>\n",
              "      <td>33.0</td>\n",
              "      <td>5.0</td>\n",
              "      <td>0.0</td>\n",
              "      <td>0.0</td>\n",
              "      <td>0.0</td>\n",
              "    </tr>\n",
              "  </tbody>\n",
              "</table>\n",
              "</div>"
            ],
            "text/plain": [
              "  Week (Mon-Sun)  ... Transactions\n",
              "0        2020|29  ...          0.0\n",
              "1        2020|30  ...         14.0\n",
              "2        2020|29  ...          0.0\n",
              "3        2020|29  ...         11.0\n",
              "4        2020|28  ...          0.0\n",
              "\n",
              "[5 rows x 10 columns]"
            ]
          },
          "metadata": {
            "tags": []
          },
          "execution_count": 4
        }
      ]
    },
    {
      "cell_type": "code",
      "metadata": {
        "id": "2v2WzaryVhH4",
        "colab_type": "code",
        "colab": {}
      },
      "source": [
        "projelogi.columns = ['week', 'user_id', 'sessions', 'page_session', 'avg_session_duration','product_view','product_click','add_to_cart','product_checkout','transactions']"
      ],
      "execution_count": 5,
      "outputs": []
    },
    {
      "cell_type": "code",
      "metadata": {
        "id": "QF1YmPHOW59B",
        "colab_type": "code",
        "colab": {
          "base_uri": "https://localhost:8080/",
          "height": 316
        },
        "outputId": "bb22da92-0f3c-4c15-f416-595bce362e46"
      },
      "source": [
        "projelogi.info()"
      ],
      "execution_count": 6,
      "outputs": [
        {
          "output_type": "stream",
          "text": [
            "<class 'pandas.core.frame.DataFrame'>\n",
            "RangeIndex: 154763 entries, 0 to 154762\n",
            "Data columns (total 10 columns):\n",
            " #   Column                Non-Null Count   Dtype  \n",
            "---  ------                --------------   -----  \n",
            " 0   week                  154763 non-null  object \n",
            " 1   user_id               154759 non-null  object \n",
            " 2   sessions              154759 non-null  float64\n",
            " 3   page_session          154748 non-null  float64\n",
            " 4   avg_session_duration  154748 non-null  float64\n",
            " 5   product_view          154759 non-null  float64\n",
            " 6   product_click         154759 non-null  float64\n",
            " 7   add_to_cart           154759 non-null  float64\n",
            " 8   product_checkout      154752 non-null  float64\n",
            " 9   transactions          154752 non-null  float64\n",
            "dtypes: float64(8), object(2)\n",
            "memory usage: 11.8+ MB\n"
          ],
          "name": "stdout"
        }
      ]
    },
    {
      "cell_type": "code",
      "metadata": {
        "id": "RLgkVVZlXCS2",
        "colab_type": "code",
        "colab": {
          "base_uri": "https://localhost:8080/",
          "height": 210
        },
        "outputId": "72bbc22c-652e-4fa3-b46b-4bb7eea7b893"
      },
      "source": [
        "projelogi.nunique()"
      ],
      "execution_count": 7,
      "outputs": [
        {
          "output_type": "execute_result",
          "data": {
            "text/plain": [
              "week                        5\n",
              "user_id                 94960\n",
              "sessions                  105\n",
              "page_session             1879\n",
              "avg_session_duration     3321\n",
              "product_view              394\n",
              "product_click             123\n",
              "add_to_cart               113\n",
              "product_checkout          332\n",
              "transactions               34\n",
              "dtype: int64"
            ]
          },
          "metadata": {
            "tags": []
          },
          "execution_count": 7
        }
      ]
    },
    {
      "cell_type": "code",
      "metadata": {
        "id": "QFD-q41uat4o",
        "colab_type": "code",
        "colab": {
          "base_uri": "https://localhost:8080/",
          "height": 228
        },
        "outputId": "28d69c87-ee9a-4ee4-c794-371f610f7329"
      },
      "source": [
        "projelogi['week_j'] = projelogi['week'].str.split('|') \n",
        "projelogi['week_j']"
      ],
      "execution_count": 8,
      "outputs": [
        {
          "output_type": "execute_result",
          "data": {
            "text/plain": [
              "0         [2020, 29]\n",
              "1         [2020, 30]\n",
              "2         [2020, 29]\n",
              "3         [2020, 29]\n",
              "4         [2020, 28]\n",
              "             ...    \n",
              "154758    [2020, 29]\n",
              "154759    [2020, 29]\n",
              "154760    [2020, 30]\n",
              "154761    [2020, 31]\n",
              "154762    [2020, 31]\n",
              "Name: week_j, Length: 154763, dtype: object"
            ]
          },
          "metadata": {
            "tags": []
          },
          "execution_count": 8
        }
      ]
    },
    {
      "cell_type": "code",
      "metadata": {
        "id": "XqeWbVKdXjJ3",
        "colab_type": "code",
        "colab": {
          "base_uri": "https://localhost:8080/",
          "height": 890
        },
        "outputId": "78f9e8cf-07d8-4183-d5d4-56e2a08782e5"
      },
      "source": [
        "projelogi_1 = projelogi.groupby([\"week\",\"user_id\"]).agg({\"sessions\":\"sum\",\n",
        "                                                            \"page_session\":\"mean\",\n",
        "                                                            \"avg_session_duration\":\"mean\",\n",
        "                                                            \"product_view\":\"sum\",\n",
        "                                                            \"product_click\":\"sum\",\n",
        "                                                            \"add_to_cart\":\"sum\",\n",
        "                                                            \"product_checkout\":\"sum\",\n",
        "                                                            \"transactions\":\"sum\"}).reset_index()\n",
        "\n",
        "projelogi_1.head(10)"
      ],
      "execution_count": 9,
      "outputs": [
        {
          "output_type": "execute_result",
          "data": {
            "text/html": [
              "<div>\n",
              "<style scoped>\n",
              "    .dataframe tbody tr th:only-of-type {\n",
              "        vertical-align: middle;\n",
              "    }\n",
              "\n",
              "    .dataframe tbody tr th {\n",
              "        vertical-align: top;\n",
              "    }\n",
              "\n",
              "    .dataframe thead th {\n",
              "        text-align: right;\n",
              "    }\n",
              "</style>\n",
              "<table border=\"1\" class=\"dataframe\">\n",
              "  <thead>\n",
              "    <tr style=\"text-align: right;\">\n",
              "      <th></th>\n",
              "      <th>week</th>\n",
              "      <th>user_id</th>\n",
              "      <th>sessions</th>\n",
              "      <th>page_session</th>\n",
              "      <th>avg_session_duration</th>\n",
              "      <th>product_view</th>\n",
              "      <th>product_click</th>\n",
              "      <th>add_to_cart</th>\n",
              "      <th>product_checkout</th>\n",
              "      <th>transactions</th>\n",
              "    </tr>\n",
              "  </thead>\n",
              "  <tbody>\n",
              "    <tr>\n",
              "      <th>0</th>\n",
              "      <td>2020|27</td>\n",
              "      <td>0000279A-87C8-E811-90F9-00155D619647</td>\n",
              "      <td>3.0</td>\n",
              "      <td>1.00</td>\n",
              "      <td>0.0</td>\n",
              "      <td>0.0</td>\n",
              "      <td>0.0</td>\n",
              "      <td>0.0</td>\n",
              "      <td>0.0</td>\n",
              "      <td>0.0</td>\n",
              "    </tr>\n",
              "    <tr>\n",
              "      <th>1</th>\n",
              "      <td>2020|27</td>\n",
              "      <td>000219E1-DBC3-E811-90F9-00155D619647</td>\n",
              "      <td>4.0</td>\n",
              "      <td>4.50</td>\n",
              "      <td>206.0</td>\n",
              "      <td>21.0</td>\n",
              "      <td>0.0</td>\n",
              "      <td>0.0</td>\n",
              "      <td>0.0</td>\n",
              "      <td>0.0</td>\n",
              "    </tr>\n",
              "    <tr>\n",
              "      <th>2</th>\n",
              "      <td>2020|27</td>\n",
              "      <td>00039966-101C-E911-80C7-00155D619677</td>\n",
              "      <td>1.0</td>\n",
              "      <td>4.00</td>\n",
              "      <td>26.0</td>\n",
              "      <td>0.0</td>\n",
              "      <td>0.0</td>\n",
              "      <td>0.0</td>\n",
              "      <td>3.0</td>\n",
              "      <td>0.0</td>\n",
              "    </tr>\n",
              "    <tr>\n",
              "      <th>3</th>\n",
              "      <td>2020|27</td>\n",
              "      <td>000906F6-40B5-EA11-80D0-00155D61134E</td>\n",
              "      <td>8.0</td>\n",
              "      <td>2.00</td>\n",
              "      <td>25.0</td>\n",
              "      <td>41.0</td>\n",
              "      <td>0.0</td>\n",
              "      <td>0.0</td>\n",
              "      <td>0.0</td>\n",
              "      <td>0.0</td>\n",
              "    </tr>\n",
              "    <tr>\n",
              "      <th>4</th>\n",
              "      <td>2020|27</td>\n",
              "      <td>0009F07C-A37B-E911-80CA-00155D7CD320</td>\n",
              "      <td>4.0</td>\n",
              "      <td>1.75</td>\n",
              "      <td>54.0</td>\n",
              "      <td>27.0</td>\n",
              "      <td>0.0</td>\n",
              "      <td>0.0</td>\n",
              "      <td>0.0</td>\n",
              "      <td>0.0</td>\n",
              "    </tr>\n",
              "    <tr>\n",
              "      <th>5</th>\n",
              "      <td>2020|27</td>\n",
              "      <td>000B0994-B7B8-EA11-80D0-00155D61134E</td>\n",
              "      <td>2.0</td>\n",
              "      <td>1.00</td>\n",
              "      <td>0.0</td>\n",
              "      <td>6.0</td>\n",
              "      <td>0.0</td>\n",
              "      <td>0.0</td>\n",
              "      <td>0.0</td>\n",
              "      <td>0.0</td>\n",
              "    </tr>\n",
              "    <tr>\n",
              "      <th>6</th>\n",
              "      <td>2020|27</td>\n",
              "      <td>000D22CD-6507-E911-80C7-00155D619677</td>\n",
              "      <td>2.0</td>\n",
              "      <td>16.50</td>\n",
              "      <td>846.0</td>\n",
              "      <td>13.0</td>\n",
              "      <td>0.0</td>\n",
              "      <td>1.0</td>\n",
              "      <td>15.0</td>\n",
              "      <td>1.0</td>\n",
              "    </tr>\n",
              "    <tr>\n",
              "      <th>7</th>\n",
              "      <td>2020|27</td>\n",
              "      <td>000DD9E4-BABB-EA11-80D0-00155D61134E</td>\n",
              "      <td>10.0</td>\n",
              "      <td>5.50</td>\n",
              "      <td>191.0</td>\n",
              "      <td>33.0</td>\n",
              "      <td>0.0</td>\n",
              "      <td>1.0</td>\n",
              "      <td>9.0</td>\n",
              "      <td>1.0</td>\n",
              "    </tr>\n",
              "    <tr>\n",
              "      <th>8</th>\n",
              "      <td>2020|27</td>\n",
              "      <td>000E323F-A797-EA11-80D0-00155D61134E</td>\n",
              "      <td>1.0</td>\n",
              "      <td>1.00</td>\n",
              "      <td>0.0</td>\n",
              "      <td>2.0</td>\n",
              "      <td>0.0</td>\n",
              "      <td>0.0</td>\n",
              "      <td>0.0</td>\n",
              "      <td>0.0</td>\n",
              "    </tr>\n",
              "    <tr>\n",
              "      <th>9</th>\n",
              "      <td>2020|27</td>\n",
              "      <td>001318CF-A5C5-E811-90F9-00155D619647</td>\n",
              "      <td>2.0</td>\n",
              "      <td>5.00</td>\n",
              "      <td>152.0</td>\n",
              "      <td>2.0</td>\n",
              "      <td>1.0</td>\n",
              "      <td>0.0</td>\n",
              "      <td>0.0</td>\n",
              "      <td>0.0</td>\n",
              "    </tr>\n",
              "  </tbody>\n",
              "</table>\n",
              "</div>"
            ],
            "text/plain": [
              "      week  ... transactions\n",
              "0  2020|27  ...          0.0\n",
              "1  2020|27  ...          0.0\n",
              "2  2020|27  ...          0.0\n",
              "3  2020|27  ...          0.0\n",
              "4  2020|27  ...          0.0\n",
              "5  2020|27  ...          0.0\n",
              "6  2020|27  ...          1.0\n",
              "7  2020|27  ...          1.0\n",
              "8  2020|27  ...          0.0\n",
              "9  2020|27  ...          0.0\n",
              "\n",
              "[10 rows x 10 columns]"
            ]
          },
          "metadata": {
            "tags": []
          },
          "execution_count": 9
        }
      ]
    },
    {
      "cell_type": "code",
      "metadata": {
        "id": "8aL1-FBkakAC",
        "colab_type": "code",
        "colab": {
          "base_uri": "https://localhost:8080/",
          "height": 316
        },
        "outputId": "66632285-300b-4f6d-fbed-022d16c138b7"
      },
      "source": [
        "projelogi_1.info()"
      ],
      "execution_count": 10,
      "outputs": [
        {
          "output_type": "stream",
          "text": [
            "<class 'pandas.core.frame.DataFrame'>\n",
            "RangeIndex: 154759 entries, 0 to 154758\n",
            "Data columns (total 10 columns):\n",
            " #   Column                Non-Null Count   Dtype  \n",
            "---  ------                --------------   -----  \n",
            " 0   week                  154759 non-null  object \n",
            " 1   user_id               154759 non-null  object \n",
            " 2   sessions              154759 non-null  float64\n",
            " 3   page_session          154744 non-null  float64\n",
            " 4   avg_session_duration  154744 non-null  float64\n",
            " 5   product_view          154759 non-null  float64\n",
            " 6   product_click         154759 non-null  float64\n",
            " 7   add_to_cart           154759 non-null  float64\n",
            " 8   product_checkout      154759 non-null  float64\n",
            " 9   transactions          154759 non-null  float64\n",
            "dtypes: float64(8), object(2)\n",
            "memory usage: 11.8+ MB\n"
          ],
          "name": "stdout"
        }
      ]
    },
    {
      "cell_type": "code",
      "metadata": {
        "id": "eGQ4muTLe2W6",
        "colab_type": "code",
        "colab": {
          "base_uri": "https://localhost:8080/",
          "height": 210
        },
        "outputId": "865a2700-1453-4fb2-fe33-cf7065d0f4b9"
      },
      "source": [
        "projelogi_1.nunique()"
      ],
      "execution_count": 11,
      "outputs": [
        {
          "output_type": "execute_result",
          "data": {
            "text/plain": [
              "week                        5\n",
              "user_id                 94960\n",
              "sessions                  105\n",
              "page_session             1879\n",
              "avg_session_duration     3321\n",
              "product_view              394\n",
              "product_click             123\n",
              "add_to_cart               113\n",
              "product_checkout          332\n",
              "transactions               34\n",
              "dtype: int64"
            ]
          },
          "metadata": {
            "tags": []
          },
          "execution_count": 11
        }
      ]
    },
    {
      "cell_type": "code",
      "metadata": {
        "id": "ocYlAqO-e8nx",
        "colab_type": "code",
        "colab": {}
      },
      "source": [
        "def func(x):\n",
        "  if x >= 1:\n",
        "    return 1\n",
        "  elif x==0:\n",
        "    return 0"
      ],
      "execution_count": 12,
      "outputs": []
    },
    {
      "cell_type": "code",
      "metadata": {
        "id": "QhNspH8tfv7H",
        "colab_type": "code",
        "colab": {
          "base_uri": "https://localhost:8080/",
          "height": 70
        },
        "outputId": "cc871fe6-c47c-4037-d7b8-1f70140cd9bc"
      },
      "source": [
        "projelogi_1[\"transactions_dummy\"]= projelogi_1[\"transactions\"].apply(func)\n",
        "projelogi_1.transactions_dummy.value_counts()"
      ],
      "execution_count": 13,
      "outputs": [
        {
          "output_type": "execute_result",
          "data": {
            "text/plain": [
              "0    141728\n",
              "1     13031\n",
              "Name: transactions_dummy, dtype: int64"
            ]
          },
          "metadata": {
            "tags": []
          },
          "execution_count": 13
        }
      ]
    },
    {
      "cell_type": "code",
      "metadata": {
        "id": "U7RhXCaKh_2h",
        "colab_type": "code",
        "colab": {
          "base_uri": "https://localhost:8080/",
          "height": 479
        },
        "outputId": "ed567d48-690d-4a99-8c1b-caa5a5a82065"
      },
      "source": [
        "projelogi_1.head()"
      ],
      "execution_count": 14,
      "outputs": [
        {
          "output_type": "execute_result",
          "data": {
            "text/html": [
              "<div>\n",
              "<style scoped>\n",
              "    .dataframe tbody tr th:only-of-type {\n",
              "        vertical-align: middle;\n",
              "    }\n",
              "\n",
              "    .dataframe tbody tr th {\n",
              "        vertical-align: top;\n",
              "    }\n",
              "\n",
              "    .dataframe thead th {\n",
              "        text-align: right;\n",
              "    }\n",
              "</style>\n",
              "<table border=\"1\" class=\"dataframe\">\n",
              "  <thead>\n",
              "    <tr style=\"text-align: right;\">\n",
              "      <th></th>\n",
              "      <th>week</th>\n",
              "      <th>user_id</th>\n",
              "      <th>sessions</th>\n",
              "      <th>page_session</th>\n",
              "      <th>avg_session_duration</th>\n",
              "      <th>product_view</th>\n",
              "      <th>product_click</th>\n",
              "      <th>add_to_cart</th>\n",
              "      <th>product_checkout</th>\n",
              "      <th>transactions</th>\n",
              "      <th>transactions_dummy</th>\n",
              "    </tr>\n",
              "  </thead>\n",
              "  <tbody>\n",
              "    <tr>\n",
              "      <th>0</th>\n",
              "      <td>2020|27</td>\n",
              "      <td>0000279A-87C8-E811-90F9-00155D619647</td>\n",
              "      <td>3.0</td>\n",
              "      <td>1.00</td>\n",
              "      <td>0.0</td>\n",
              "      <td>0.0</td>\n",
              "      <td>0.0</td>\n",
              "      <td>0.0</td>\n",
              "      <td>0.0</td>\n",
              "      <td>0.0</td>\n",
              "      <td>0</td>\n",
              "    </tr>\n",
              "    <tr>\n",
              "      <th>1</th>\n",
              "      <td>2020|27</td>\n",
              "      <td>000219E1-DBC3-E811-90F9-00155D619647</td>\n",
              "      <td>4.0</td>\n",
              "      <td>4.50</td>\n",
              "      <td>206.0</td>\n",
              "      <td>21.0</td>\n",
              "      <td>0.0</td>\n",
              "      <td>0.0</td>\n",
              "      <td>0.0</td>\n",
              "      <td>0.0</td>\n",
              "      <td>0</td>\n",
              "    </tr>\n",
              "    <tr>\n",
              "      <th>2</th>\n",
              "      <td>2020|27</td>\n",
              "      <td>00039966-101C-E911-80C7-00155D619677</td>\n",
              "      <td>1.0</td>\n",
              "      <td>4.00</td>\n",
              "      <td>26.0</td>\n",
              "      <td>0.0</td>\n",
              "      <td>0.0</td>\n",
              "      <td>0.0</td>\n",
              "      <td>3.0</td>\n",
              "      <td>0.0</td>\n",
              "      <td>0</td>\n",
              "    </tr>\n",
              "    <tr>\n",
              "      <th>3</th>\n",
              "      <td>2020|27</td>\n",
              "      <td>000906F6-40B5-EA11-80D0-00155D61134E</td>\n",
              "      <td>8.0</td>\n",
              "      <td>2.00</td>\n",
              "      <td>25.0</td>\n",
              "      <td>41.0</td>\n",
              "      <td>0.0</td>\n",
              "      <td>0.0</td>\n",
              "      <td>0.0</td>\n",
              "      <td>0.0</td>\n",
              "      <td>0</td>\n",
              "    </tr>\n",
              "    <tr>\n",
              "      <th>4</th>\n",
              "      <td>2020|27</td>\n",
              "      <td>0009F07C-A37B-E911-80CA-00155D7CD320</td>\n",
              "      <td>4.0</td>\n",
              "      <td>1.75</td>\n",
              "      <td>54.0</td>\n",
              "      <td>27.0</td>\n",
              "      <td>0.0</td>\n",
              "      <td>0.0</td>\n",
              "      <td>0.0</td>\n",
              "      <td>0.0</td>\n",
              "      <td>0</td>\n",
              "    </tr>\n",
              "  </tbody>\n",
              "</table>\n",
              "</div>"
            ],
            "text/plain": [
              "      week  ... transactions_dummy\n",
              "0  2020|27  ...                  0\n",
              "1  2020|27  ...                  0\n",
              "2  2020|27  ...                  0\n",
              "3  2020|27  ...                  0\n",
              "4  2020|27  ...                  0\n",
              "\n",
              "[5 rows x 11 columns]"
            ]
          },
          "metadata": {
            "tags": []
          },
          "execution_count": 14
        }
      ]
    },
    {
      "cell_type": "code",
      "metadata": {
        "id": "_OXcCWnI4qkR",
        "colab_type": "code",
        "colab": {
          "base_uri": "https://localhost:8080/",
          "height": 228
        },
        "outputId": "2f1373fe-f0b1-471d-a47c-1cff0d0f6726"
      },
      "source": [
        "projelogi_1.isnull().sum()"
      ],
      "execution_count": 15,
      "outputs": [
        {
          "output_type": "execute_result",
          "data": {
            "text/plain": [
              "week                     0\n",
              "user_id                  0\n",
              "sessions                 0\n",
              "page_session            15\n",
              "avg_session_duration    15\n",
              "product_view             0\n",
              "product_click            0\n",
              "add_to_cart              0\n",
              "product_checkout         0\n",
              "transactions             0\n",
              "transactions_dummy       0\n",
              "dtype: int64"
            ]
          },
          "metadata": {
            "tags": []
          },
          "execution_count": 15
        }
      ]
    },
    {
      "cell_type": "code",
      "metadata": {
        "id": "u8IxgeAK5R4p",
        "colab_type": "code",
        "colab": {
          "base_uri": "https://localhost:8080/",
          "height": 334
        },
        "outputId": "1820a5c1-3883-4223-8816-80ea31f61d4f"
      },
      "source": [
        "projelogi_1=projelogi_1.dropna(subset=[\"page_session\",\"avg_session_duration\"])\n",
        "projelogi_1.info()"
      ],
      "execution_count": 16,
      "outputs": [
        {
          "output_type": "stream",
          "text": [
            "<class 'pandas.core.frame.DataFrame'>\n",
            "Int64Index: 154744 entries, 0 to 154758\n",
            "Data columns (total 11 columns):\n",
            " #   Column                Non-Null Count   Dtype  \n",
            "---  ------                --------------   -----  \n",
            " 0   week                  154744 non-null  object \n",
            " 1   user_id               154744 non-null  object \n",
            " 2   sessions              154744 non-null  float64\n",
            " 3   page_session          154744 non-null  float64\n",
            " 4   avg_session_duration  154744 non-null  float64\n",
            " 5   product_view          154744 non-null  float64\n",
            " 6   product_click         154744 non-null  float64\n",
            " 7   add_to_cart           154744 non-null  float64\n",
            " 8   product_checkout      154744 non-null  float64\n",
            " 9   transactions          154744 non-null  float64\n",
            " 10  transactions_dummy    154744 non-null  int64  \n",
            "dtypes: float64(8), int64(1), object(2)\n",
            "memory usage: 14.2+ MB\n"
          ],
          "name": "stdout"
        }
      ]
    },
    {
      "cell_type": "code",
      "metadata": {
        "id": "-HmURYRIiL5w",
        "colab_type": "code",
        "colab": {
          "base_uri": "https://localhost:8080/",
          "height": 263
        },
        "outputId": "5ba1af8e-0eaa-4943-c4d3-f2072dbc5f6d"
      },
      "source": [
        "X = projelogi_1[['sessions', 'page_session', 'avg_session_duration','product_view','product_click','add_to_cart','product_checkout']]\n",
        "y = projelogi_1.transactions_dummy\n",
        "print(X[:5])\n",
        "print(y[:5])"
      ],
      "execution_count": 17,
      "outputs": [
        {
          "output_type": "stream",
          "text": [
            "   sessions  page_session  ...  add_to_cart  product_checkout\n",
            "0       3.0          1.00  ...          0.0               0.0\n",
            "1       4.0          4.50  ...          0.0               0.0\n",
            "2       1.0          4.00  ...          0.0               3.0\n",
            "3       8.0          2.00  ...          0.0               0.0\n",
            "4       4.0          1.75  ...          0.0               0.0\n",
            "\n",
            "[5 rows x 7 columns]\n",
            "0    0\n",
            "1    0\n",
            "2    0\n",
            "3    0\n",
            "4    0\n",
            "Name: transactions_dummy, dtype: int64\n"
          ],
          "name": "stdout"
        }
      ]
    },
    {
      "cell_type": "code",
      "metadata": {
        "id": "wu3dJ02ojxqU",
        "colab_type": "code",
        "colab": {
          "base_uri": "https://localhost:8080/",
          "height": 263
        },
        "outputId": "e6ed3e72-b809-4143-a73d-4e481d044fc6"
      },
      "source": [
        "X = projelogi_1[['sessions','page_session','product_view','product_click','add_to_cart','product_checkout']]\n",
        "y = projelogi_1.transactions_dummy\n",
        "print(X[:5])\n",
        "print(y[:5])"
      ],
      "execution_count": 18,
      "outputs": [
        {
          "output_type": "stream",
          "text": [
            "   sessions  page_session  ...  add_to_cart  product_checkout\n",
            "0       3.0          1.00  ...          0.0               0.0\n",
            "1       4.0          4.50  ...          0.0               0.0\n",
            "2       1.0          4.00  ...          0.0               3.0\n",
            "3       8.0          2.00  ...          0.0               0.0\n",
            "4       4.0          1.75  ...          0.0               0.0\n",
            "\n",
            "[5 rows x 6 columns]\n",
            "0    0\n",
            "1    0\n",
            "2    0\n",
            "3    0\n",
            "4    0\n",
            "Name: transactions_dummy, dtype: int64\n"
          ],
          "name": "stdout"
        }
      ]
    },
    {
      "cell_type": "markdown",
      "metadata": {
        "id": "rcHJbhvgDGtj",
        "colab_type": "text"
      },
      "source": [
        "Fiilna with 0 yapılcak page_session ve avg session kontrol edilecek\n"
      ]
    },
    {
      "cell_type": "code",
      "metadata": {
        "id": "wRPBNKgdqGCp",
        "colab_type": "code",
        "colab": {
          "base_uri": "https://localhost:8080/",
          "height": 70
        },
        "outputId": "091683a2-931f-4e15-b242-5948620c8cae"
      },
      "source": [
        "projelogi_1.transactions_dummy.value_counts()"
      ],
      "execution_count": 19,
      "outputs": [
        {
          "output_type": "execute_result",
          "data": {
            "text/plain": [
              "0    141715\n",
              "1     13029\n",
              "Name: transactions_dummy, dtype: int64"
            ]
          },
          "metadata": {
            "tags": []
          },
          "execution_count": 19
        }
      ]
    },
    {
      "cell_type": "code",
      "metadata": {
        "id": "Gw59AFRQjUV4",
        "colab_type": "code",
        "colab": {}
      },
      "source": [
        "from sklearn.model_selection import train_test_split\n",
        "X_eğitim, X_test, y_eğitim, y_test =  train_test_split(X, y, test_size=0.20, random_state=111)"
      ],
      "execution_count": 28,
      "outputs": []
    },
    {
      "cell_type": "code",
      "metadata": {
        "id": "1oeU-P3CjWeQ",
        "colab_type": "code",
        "colab": {
          "base_uri": "https://localhost:8080/",
          "height": 122
        },
        "outputId": "818d4e82-f4d5-4f29-ace1-1b471c303a2d"
      },
      "source": [
        "projelogi_1_karar_agaci = DecisionTreeClassifier(criterion='entropy', max_features=1,\n",
        "                                     max_depth=6,random_state = 100)\n",
        "projelogi_1_karar_agaci.fit(X_eğitim, y_eğitim)\n"
      ],
      "execution_count": 29,
      "outputs": [
        {
          "output_type": "execute_result",
          "data": {
            "text/plain": [
              "DecisionTreeClassifier(ccp_alpha=0.0, class_weight=None, criterion='entropy',\n",
              "                       max_depth=6, max_features=1, max_leaf_nodes=None,\n",
              "                       min_impurity_decrease=0.0, min_impurity_split=None,\n",
              "                       min_samples_leaf=1, min_samples_split=2,\n",
              "                       min_weight_fraction_leaf=0.0, presort='deprecated',\n",
              "                       random_state=100, splitter='best')"
            ]
          },
          "metadata": {
            "tags": []
          },
          "execution_count": 29
        }
      ]
    },
    {
      "cell_type": "code",
      "metadata": {
        "id": "G3DYeoyXt_DT",
        "colab_type": "code",
        "colab": {
          "base_uri": "https://localhost:8080/",
          "height": 34
        },
        "outputId": "e1e0414f-3e72-40c7-b22e-cd279e2cb5f1"
      },
      "source": [
        "from sklearn.metrics import accuracy_score\n",
        "y_tahmin_ka = projelogi_1_karar_agaci.predict(X_test)\n",
        "\n",
        "print(\"Karar Ağacı Doğruluk Değeri        : {:.2f}\".format(accuracy_score(y_test, y_tahmin_ka)))\n"
      ],
      "execution_count": 31,
      "outputs": [
        {
          "output_type": "stream",
          "text": [
            "Karar Ağacı Doğruluk Değeri        : 0.92\n"
          ],
          "name": "stdout"
        }
      ]
    },
    {
      "cell_type": "code",
      "metadata": {
        "id": "PD-0xqUN3_qk",
        "colab_type": "code",
        "colab": {}
      },
      "source": [
        ""
      ],
      "execution_count": null,
      "outputs": []
    }
  ]
}