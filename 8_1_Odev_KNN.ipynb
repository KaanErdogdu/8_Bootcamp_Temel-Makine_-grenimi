{
  "nbformat": 4,
  "nbformat_minor": 0,
  "metadata": {
    "colab": {
      "name": "8_1_Odev_KNN.ipynb",
      "provenance": [],
      "collapsed_sections": [],
      "authorship_tag": "ABX9TyMp4V5F6UIFh5zvm6VHcq5+",
      "include_colab_link": true
    },
    "kernelspec": {
      "name": "python3",
      "display_name": "Python 3"
    }
  },
  "cells": [
    {
      "cell_type": "markdown",
      "metadata": {
        "id": "view-in-github",
        "colab_type": "text"
      },
      "source": [
        "<a href=\"https://colab.research.google.com/github/KaanErdogdu/8_Bootcamp_Temel-Makine_-grenimi/blob/master/8_1_Odev_KNN.ipynb\" target=\"_parent\"><img src=\"https://colab.research.google.com/assets/colab-badge.svg\" alt=\"Open In Colab\"/></a>"
      ]
    },
    {
      "cell_type": "code",
      "metadata": {
        "id": "wHfwYXj1ToPq",
        "colab_type": "code",
        "colab": {}
      },
      "source": [
        "import matplotlib.pyplot as plt\n",
        "import seaborn as sns\n",
        "import numpy as np\n",
        "import pandas as pd\n",
        "import scipy.stats as stats\n",
        "from scipy.stats.mstats import winsorize\n",
        "from sqlalchemy import create_engine\n",
        "from sklearn.model_selection import train_test_split\n",
        "from sklearn.linear_model import LogisticRegression\n",
        "import warnings\n",
        "import datetime as dt\n",
        "import re\n",
        "from sklearn import datasets\n",
        "iris = datasets.load_iris()\n",
        "import warnings\n",
        "warnings.filterwarnings('ignore')"
      ],
      "execution_count": 26,
      "outputs": []
    },
    {
      "cell_type": "code",
      "metadata": {
        "id": "uCE8ETanT7iZ",
        "colab_type": "code",
        "colab": {}
      },
      "source": [
        "projelogi=pd.read_csv(\"Logistic Reg Teknosa.csv\")"
      ],
      "execution_count": 27,
      "outputs": []
    },
    {
      "cell_type": "code",
      "metadata": {
        "id": "PQc0AfrnUwIR",
        "colab_type": "code",
        "colab": {
          "base_uri": "https://localhost:8080/",
          "height": 425
        },
        "outputId": "dffa8358-f219-4ea3-b049-1e44b3d5b5ed"
      },
      "source": [
        "projelogi.head()"
      ],
      "execution_count": 28,
      "outputs": [
        {
          "output_type": "execute_result",
          "data": {
            "text/html": [
              "<div>\n",
              "<style scoped>\n",
              "    .dataframe tbody tr th:only-of-type {\n",
              "        vertical-align: middle;\n",
              "    }\n",
              "\n",
              "    .dataframe tbody tr th {\n",
              "        vertical-align: top;\n",
              "    }\n",
              "\n",
              "    .dataframe thead th {\n",
              "        text-align: right;\n",
              "    }\n",
              "</style>\n",
              "<table border=\"1\" class=\"dataframe\">\n",
              "  <thead>\n",
              "    <tr style=\"text-align: right;\">\n",
              "      <th></th>\n",
              "      <th>Week (Mon-Sun)</th>\n",
              "      <th>Custom dimension 1</th>\n",
              "      <th>Sessions</th>\n",
              "      <th>Avg. pageviews per session</th>\n",
              "      <th>Avg. session length (sec)</th>\n",
              "      <th>Product Detail Views</th>\n",
              "      <th>Product List Clicks</th>\n",
              "      <th>Product Adds To Cart</th>\n",
              "      <th>Product Checkouts</th>\n",
              "      <th>Transactions</th>\n",
              "    </tr>\n",
              "  </thead>\n",
              "  <tbody>\n",
              "    <tr>\n",
              "      <th>0</th>\n",
              "      <td>2020|29</td>\n",
              "      <td>731C0F2E-DDC3-E811-90F9-00155D619647</td>\n",
              "      <td>189.0</td>\n",
              "      <td>4.89</td>\n",
              "      <td>311.0</td>\n",
              "      <td>1772.0</td>\n",
              "      <td>20.0</td>\n",
              "      <td>6.0</td>\n",
              "      <td>61.0</td>\n",
              "      <td>0.0</td>\n",
              "    </tr>\n",
              "    <tr>\n",
              "      <th>1</th>\n",
              "      <td>2020|30</td>\n",
              "      <td>4283B82C-20B2-EA11-80D0-00155D61134E</td>\n",
              "      <td>163.0</td>\n",
              "      <td>16.90</td>\n",
              "      <td>145.0</td>\n",
              "      <td>447.0</td>\n",
              "      <td>156.0</td>\n",
              "      <td>156.0</td>\n",
              "      <td>2067.0</td>\n",
              "      <td>14.0</td>\n",
              "    </tr>\n",
              "    <tr>\n",
              "      <th>2</th>\n",
              "      <td>2020|29</td>\n",
              "      <td>4A1E910F-F5B2-EA11-80D5-00155D7CD320</td>\n",
              "      <td>139.0</td>\n",
              "      <td>6.47</td>\n",
              "      <td>626.0</td>\n",
              "      <td>892.0</td>\n",
              "      <td>128.0</td>\n",
              "      <td>7.0</td>\n",
              "      <td>105.0</td>\n",
              "      <td>0.0</td>\n",
              "    </tr>\n",
              "    <tr>\n",
              "      <th>3</th>\n",
              "      <td>2020|29</td>\n",
              "      <td>4283B82C-20B2-EA11-80D0-00155D61134E</td>\n",
              "      <td>137.0</td>\n",
              "      <td>12.83</td>\n",
              "      <td>181.0</td>\n",
              "      <td>171.0</td>\n",
              "      <td>59.0</td>\n",
              "      <td>58.0</td>\n",
              "      <td>793.0</td>\n",
              "      <td>11.0</td>\n",
              "    </tr>\n",
              "    <tr>\n",
              "      <th>4</th>\n",
              "      <td>2020|28</td>\n",
              "      <td>73982672-3C90-E911-80CB-00155D61134E</td>\n",
              "      <td>121.0</td>\n",
              "      <td>5.83</td>\n",
              "      <td>684.0</td>\n",
              "      <td>33.0</td>\n",
              "      <td>5.0</td>\n",
              "      <td>0.0</td>\n",
              "      <td>0.0</td>\n",
              "      <td>0.0</td>\n",
              "    </tr>\n",
              "  </tbody>\n",
              "</table>\n",
              "</div>"
            ],
            "text/plain": [
              "  Week (Mon-Sun)  ... Transactions\n",
              "0        2020|29  ...          0.0\n",
              "1        2020|30  ...         14.0\n",
              "2        2020|29  ...          0.0\n",
              "3        2020|29  ...         11.0\n",
              "4        2020|28  ...          0.0\n",
              "\n",
              "[5 rows x 10 columns]"
            ]
          },
          "metadata": {
            "tags": []
          },
          "execution_count": 28
        }
      ]
    },
    {
      "cell_type": "code",
      "metadata": {
        "id": "2v2WzaryVhH4",
        "colab_type": "code",
        "colab": {}
      },
      "source": [
        "projelogi.columns = ['week', 'user_id', 'sessions', 'page_session', 'avg_session_duration','product_view','product_click','add_to_cart','product_checkout','transactions']"
      ],
      "execution_count": 29,
      "outputs": []
    },
    {
      "cell_type": "code",
      "metadata": {
        "id": "QF1YmPHOW59B",
        "colab_type": "code",
        "colab": {
          "base_uri": "https://localhost:8080/",
          "height": 316
        },
        "outputId": "ba3b6a22-46e2-40d1-994f-64cffd18f713"
      },
      "source": [
        "projelogi.info()"
      ],
      "execution_count": 30,
      "outputs": [
        {
          "output_type": "stream",
          "text": [
            "<class 'pandas.core.frame.DataFrame'>\n",
            "RangeIndex: 154763 entries, 0 to 154762\n",
            "Data columns (total 10 columns):\n",
            " #   Column                Non-Null Count   Dtype  \n",
            "---  ------                --------------   -----  \n",
            " 0   week                  154763 non-null  object \n",
            " 1   user_id               154759 non-null  object \n",
            " 2   sessions              154759 non-null  float64\n",
            " 3   page_session          154748 non-null  float64\n",
            " 4   avg_session_duration  154748 non-null  float64\n",
            " 5   product_view          154759 non-null  float64\n",
            " 6   product_click         154759 non-null  float64\n",
            " 7   add_to_cart           154759 non-null  float64\n",
            " 8   product_checkout      154752 non-null  float64\n",
            " 9   transactions          154752 non-null  float64\n",
            "dtypes: float64(8), object(2)\n",
            "memory usage: 11.8+ MB\n"
          ],
          "name": "stdout"
        }
      ]
    },
    {
      "cell_type": "code",
      "metadata": {
        "id": "RLgkVVZlXCS2",
        "colab_type": "code",
        "colab": {
          "base_uri": "https://localhost:8080/",
          "height": 210
        },
        "outputId": "8585af08-6b04-4f1e-eb91-9786fc9653ab"
      },
      "source": [
        "projelogi.nunique()"
      ],
      "execution_count": 31,
      "outputs": [
        {
          "output_type": "execute_result",
          "data": {
            "text/plain": [
              "week                        5\n",
              "user_id                 94960\n",
              "sessions                  105\n",
              "page_session             1879\n",
              "avg_session_duration     3321\n",
              "product_view              394\n",
              "product_click             123\n",
              "add_to_cart               113\n",
              "product_checkout          332\n",
              "transactions               34\n",
              "dtype: int64"
            ]
          },
          "metadata": {
            "tags": []
          },
          "execution_count": 31
        }
      ]
    },
    {
      "cell_type": "code",
      "metadata": {
        "id": "QFD-q41uat4o",
        "colab_type": "code",
        "colab": {
          "base_uri": "https://localhost:8080/",
          "height": 228
        },
        "outputId": "4fd824f0-5389-4fa6-b6e3-63e1d59e8c9e"
      },
      "source": [
        "projelogi['week_j'] = projelogi['week'].str.split('|') \n",
        "projelogi['week_j']"
      ],
      "execution_count": 32,
      "outputs": [
        {
          "output_type": "execute_result",
          "data": {
            "text/plain": [
              "0         [2020, 29]\n",
              "1         [2020, 30]\n",
              "2         [2020, 29]\n",
              "3         [2020, 29]\n",
              "4         [2020, 28]\n",
              "             ...    \n",
              "154758    [2020, 29]\n",
              "154759    [2020, 29]\n",
              "154760    [2020, 30]\n",
              "154761    [2020, 31]\n",
              "154762    [2020, 31]\n",
              "Name: week_j, Length: 154763, dtype: object"
            ]
          },
          "metadata": {
            "tags": []
          },
          "execution_count": 32
        }
      ]
    },
    {
      "cell_type": "code",
      "metadata": {
        "id": "XqeWbVKdXjJ3",
        "colab_type": "code",
        "colab": {
          "base_uri": "https://localhost:8080/",
          "height": 890
        },
        "outputId": "baf3f7b7-e7af-4446-a03d-56f46bae1edf"
      },
      "source": [
        "projelogi_1 = projelogi.groupby([\"week\",\"user_id\"]).agg({\"sessions\":\"sum\",\n",
        "                                                            \"page_session\":\"mean\",\n",
        "                                                            \"avg_session_duration\":\"mean\",\n",
        "                                                            \"product_view\":\"sum\",\n",
        "                                                            \"product_click\":\"sum\",\n",
        "                                                            \"add_to_cart\":\"sum\",\n",
        "                                                            \"product_checkout\":\"sum\",\n",
        "                                                            \"transactions\":\"sum\"}).reset_index()\n",
        "\n",
        "projelogi_1.head(10)"
      ],
      "execution_count": 33,
      "outputs": [
        {
          "output_type": "execute_result",
          "data": {
            "text/html": [
              "<div>\n",
              "<style scoped>\n",
              "    .dataframe tbody tr th:only-of-type {\n",
              "        vertical-align: middle;\n",
              "    }\n",
              "\n",
              "    .dataframe tbody tr th {\n",
              "        vertical-align: top;\n",
              "    }\n",
              "\n",
              "    .dataframe thead th {\n",
              "        text-align: right;\n",
              "    }\n",
              "</style>\n",
              "<table border=\"1\" class=\"dataframe\">\n",
              "  <thead>\n",
              "    <tr style=\"text-align: right;\">\n",
              "      <th></th>\n",
              "      <th>week</th>\n",
              "      <th>user_id</th>\n",
              "      <th>sessions</th>\n",
              "      <th>page_session</th>\n",
              "      <th>avg_session_duration</th>\n",
              "      <th>product_view</th>\n",
              "      <th>product_click</th>\n",
              "      <th>add_to_cart</th>\n",
              "      <th>product_checkout</th>\n",
              "      <th>transactions</th>\n",
              "    </tr>\n",
              "  </thead>\n",
              "  <tbody>\n",
              "    <tr>\n",
              "      <th>0</th>\n",
              "      <td>2020|27</td>\n",
              "      <td>0000279A-87C8-E811-90F9-00155D619647</td>\n",
              "      <td>3.0</td>\n",
              "      <td>1.00</td>\n",
              "      <td>0.0</td>\n",
              "      <td>0.0</td>\n",
              "      <td>0.0</td>\n",
              "      <td>0.0</td>\n",
              "      <td>0.0</td>\n",
              "      <td>0.0</td>\n",
              "    </tr>\n",
              "    <tr>\n",
              "      <th>1</th>\n",
              "      <td>2020|27</td>\n",
              "      <td>000219E1-DBC3-E811-90F9-00155D619647</td>\n",
              "      <td>4.0</td>\n",
              "      <td>4.50</td>\n",
              "      <td>206.0</td>\n",
              "      <td>21.0</td>\n",
              "      <td>0.0</td>\n",
              "      <td>0.0</td>\n",
              "      <td>0.0</td>\n",
              "      <td>0.0</td>\n",
              "    </tr>\n",
              "    <tr>\n",
              "      <th>2</th>\n",
              "      <td>2020|27</td>\n",
              "      <td>00039966-101C-E911-80C7-00155D619677</td>\n",
              "      <td>1.0</td>\n",
              "      <td>4.00</td>\n",
              "      <td>26.0</td>\n",
              "      <td>0.0</td>\n",
              "      <td>0.0</td>\n",
              "      <td>0.0</td>\n",
              "      <td>3.0</td>\n",
              "      <td>0.0</td>\n",
              "    </tr>\n",
              "    <tr>\n",
              "      <th>3</th>\n",
              "      <td>2020|27</td>\n",
              "      <td>000906F6-40B5-EA11-80D0-00155D61134E</td>\n",
              "      <td>8.0</td>\n",
              "      <td>2.00</td>\n",
              "      <td>25.0</td>\n",
              "      <td>41.0</td>\n",
              "      <td>0.0</td>\n",
              "      <td>0.0</td>\n",
              "      <td>0.0</td>\n",
              "      <td>0.0</td>\n",
              "    </tr>\n",
              "    <tr>\n",
              "      <th>4</th>\n",
              "      <td>2020|27</td>\n",
              "      <td>0009F07C-A37B-E911-80CA-00155D7CD320</td>\n",
              "      <td>4.0</td>\n",
              "      <td>1.75</td>\n",
              "      <td>54.0</td>\n",
              "      <td>27.0</td>\n",
              "      <td>0.0</td>\n",
              "      <td>0.0</td>\n",
              "      <td>0.0</td>\n",
              "      <td>0.0</td>\n",
              "    </tr>\n",
              "    <tr>\n",
              "      <th>5</th>\n",
              "      <td>2020|27</td>\n",
              "      <td>000B0994-B7B8-EA11-80D0-00155D61134E</td>\n",
              "      <td>2.0</td>\n",
              "      <td>1.00</td>\n",
              "      <td>0.0</td>\n",
              "      <td>6.0</td>\n",
              "      <td>0.0</td>\n",
              "      <td>0.0</td>\n",
              "      <td>0.0</td>\n",
              "      <td>0.0</td>\n",
              "    </tr>\n",
              "    <tr>\n",
              "      <th>6</th>\n",
              "      <td>2020|27</td>\n",
              "      <td>000D22CD-6507-E911-80C7-00155D619677</td>\n",
              "      <td>2.0</td>\n",
              "      <td>16.50</td>\n",
              "      <td>846.0</td>\n",
              "      <td>13.0</td>\n",
              "      <td>0.0</td>\n",
              "      <td>1.0</td>\n",
              "      <td>15.0</td>\n",
              "      <td>1.0</td>\n",
              "    </tr>\n",
              "    <tr>\n",
              "      <th>7</th>\n",
              "      <td>2020|27</td>\n",
              "      <td>000DD9E4-BABB-EA11-80D0-00155D61134E</td>\n",
              "      <td>10.0</td>\n",
              "      <td>5.50</td>\n",
              "      <td>191.0</td>\n",
              "      <td>33.0</td>\n",
              "      <td>0.0</td>\n",
              "      <td>1.0</td>\n",
              "      <td>9.0</td>\n",
              "      <td>1.0</td>\n",
              "    </tr>\n",
              "    <tr>\n",
              "      <th>8</th>\n",
              "      <td>2020|27</td>\n",
              "      <td>000E323F-A797-EA11-80D0-00155D61134E</td>\n",
              "      <td>1.0</td>\n",
              "      <td>1.00</td>\n",
              "      <td>0.0</td>\n",
              "      <td>2.0</td>\n",
              "      <td>0.0</td>\n",
              "      <td>0.0</td>\n",
              "      <td>0.0</td>\n",
              "      <td>0.0</td>\n",
              "    </tr>\n",
              "    <tr>\n",
              "      <th>9</th>\n",
              "      <td>2020|27</td>\n",
              "      <td>001318CF-A5C5-E811-90F9-00155D619647</td>\n",
              "      <td>2.0</td>\n",
              "      <td>5.00</td>\n",
              "      <td>152.0</td>\n",
              "      <td>2.0</td>\n",
              "      <td>1.0</td>\n",
              "      <td>0.0</td>\n",
              "      <td>0.0</td>\n",
              "      <td>0.0</td>\n",
              "    </tr>\n",
              "  </tbody>\n",
              "</table>\n",
              "</div>"
            ],
            "text/plain": [
              "      week  ... transactions\n",
              "0  2020|27  ...          0.0\n",
              "1  2020|27  ...          0.0\n",
              "2  2020|27  ...          0.0\n",
              "3  2020|27  ...          0.0\n",
              "4  2020|27  ...          0.0\n",
              "5  2020|27  ...          0.0\n",
              "6  2020|27  ...          1.0\n",
              "7  2020|27  ...          1.0\n",
              "8  2020|27  ...          0.0\n",
              "9  2020|27  ...          0.0\n",
              "\n",
              "[10 rows x 10 columns]"
            ]
          },
          "metadata": {
            "tags": []
          },
          "execution_count": 33
        }
      ]
    },
    {
      "cell_type": "code",
      "metadata": {
        "id": "8aL1-FBkakAC",
        "colab_type": "code",
        "colab": {
          "base_uri": "https://localhost:8080/",
          "height": 316
        },
        "outputId": "9932e4aa-0975-4c96-a26c-31cca4ca0e8e"
      },
      "source": [
        "projelogi_1.info()"
      ],
      "execution_count": 34,
      "outputs": [
        {
          "output_type": "stream",
          "text": [
            "<class 'pandas.core.frame.DataFrame'>\n",
            "RangeIndex: 154759 entries, 0 to 154758\n",
            "Data columns (total 10 columns):\n",
            " #   Column                Non-Null Count   Dtype  \n",
            "---  ------                --------------   -----  \n",
            " 0   week                  154759 non-null  object \n",
            " 1   user_id               154759 non-null  object \n",
            " 2   sessions              154759 non-null  float64\n",
            " 3   page_session          154744 non-null  float64\n",
            " 4   avg_session_duration  154744 non-null  float64\n",
            " 5   product_view          154759 non-null  float64\n",
            " 6   product_click         154759 non-null  float64\n",
            " 7   add_to_cart           154759 non-null  float64\n",
            " 8   product_checkout      154759 non-null  float64\n",
            " 9   transactions          154759 non-null  float64\n",
            "dtypes: float64(8), object(2)\n",
            "memory usage: 11.8+ MB\n"
          ],
          "name": "stdout"
        }
      ]
    },
    {
      "cell_type": "code",
      "metadata": {
        "id": "eGQ4muTLe2W6",
        "colab_type": "code",
        "colab": {
          "base_uri": "https://localhost:8080/",
          "height": 210
        },
        "outputId": "ed1b6bf1-e50b-49e5-91ef-87bd4751c754"
      },
      "source": [
        "projelogi_1.nunique()"
      ],
      "execution_count": 35,
      "outputs": [
        {
          "output_type": "execute_result",
          "data": {
            "text/plain": [
              "week                        5\n",
              "user_id                 94960\n",
              "sessions                  105\n",
              "page_session             1879\n",
              "avg_session_duration     3321\n",
              "product_view              394\n",
              "product_click             123\n",
              "add_to_cart               113\n",
              "product_checkout          332\n",
              "transactions               34\n",
              "dtype: int64"
            ]
          },
          "metadata": {
            "tags": []
          },
          "execution_count": 35
        }
      ]
    },
    {
      "cell_type": "code",
      "metadata": {
        "id": "ocYlAqO-e8nx",
        "colab_type": "code",
        "colab": {}
      },
      "source": [
        "def func(x):\n",
        "  if x >= 1:\n",
        "    return 1\n",
        "  elif x==0:\n",
        "    return 0"
      ],
      "execution_count": 36,
      "outputs": []
    },
    {
      "cell_type": "code",
      "metadata": {
        "id": "QhNspH8tfv7H",
        "colab_type": "code",
        "colab": {
          "base_uri": "https://localhost:8080/",
          "height": 70
        },
        "outputId": "9086013a-2340-4abc-e56b-37a61309a37c"
      },
      "source": [
        "projelogi_1[\"transactions_dummy\"]= projelogi_1[\"transactions\"].apply(func)\n",
        "projelogi_1.transactions_dummy.value_counts()"
      ],
      "execution_count": 37,
      "outputs": [
        {
          "output_type": "execute_result",
          "data": {
            "text/plain": [
              "0    141728\n",
              "1     13031\n",
              "Name: transactions_dummy, dtype: int64"
            ]
          },
          "metadata": {
            "tags": []
          },
          "execution_count": 37
        }
      ]
    },
    {
      "cell_type": "code",
      "metadata": {
        "id": "U7RhXCaKh_2h",
        "colab_type": "code",
        "colab": {
          "base_uri": "https://localhost:8080/",
          "height": 479
        },
        "outputId": "91c1d244-f552-4d18-ec25-95868a8cb7aa"
      },
      "source": [
        "projelogi_1.head()"
      ],
      "execution_count": 38,
      "outputs": [
        {
          "output_type": "execute_result",
          "data": {
            "text/html": [
              "<div>\n",
              "<style scoped>\n",
              "    .dataframe tbody tr th:only-of-type {\n",
              "        vertical-align: middle;\n",
              "    }\n",
              "\n",
              "    .dataframe tbody tr th {\n",
              "        vertical-align: top;\n",
              "    }\n",
              "\n",
              "    .dataframe thead th {\n",
              "        text-align: right;\n",
              "    }\n",
              "</style>\n",
              "<table border=\"1\" class=\"dataframe\">\n",
              "  <thead>\n",
              "    <tr style=\"text-align: right;\">\n",
              "      <th></th>\n",
              "      <th>week</th>\n",
              "      <th>user_id</th>\n",
              "      <th>sessions</th>\n",
              "      <th>page_session</th>\n",
              "      <th>avg_session_duration</th>\n",
              "      <th>product_view</th>\n",
              "      <th>product_click</th>\n",
              "      <th>add_to_cart</th>\n",
              "      <th>product_checkout</th>\n",
              "      <th>transactions</th>\n",
              "      <th>transactions_dummy</th>\n",
              "    </tr>\n",
              "  </thead>\n",
              "  <tbody>\n",
              "    <tr>\n",
              "      <th>0</th>\n",
              "      <td>2020|27</td>\n",
              "      <td>0000279A-87C8-E811-90F9-00155D619647</td>\n",
              "      <td>3.0</td>\n",
              "      <td>1.00</td>\n",
              "      <td>0.0</td>\n",
              "      <td>0.0</td>\n",
              "      <td>0.0</td>\n",
              "      <td>0.0</td>\n",
              "      <td>0.0</td>\n",
              "      <td>0.0</td>\n",
              "      <td>0</td>\n",
              "    </tr>\n",
              "    <tr>\n",
              "      <th>1</th>\n",
              "      <td>2020|27</td>\n",
              "      <td>000219E1-DBC3-E811-90F9-00155D619647</td>\n",
              "      <td>4.0</td>\n",
              "      <td>4.50</td>\n",
              "      <td>206.0</td>\n",
              "      <td>21.0</td>\n",
              "      <td>0.0</td>\n",
              "      <td>0.0</td>\n",
              "      <td>0.0</td>\n",
              "      <td>0.0</td>\n",
              "      <td>0</td>\n",
              "    </tr>\n",
              "    <tr>\n",
              "      <th>2</th>\n",
              "      <td>2020|27</td>\n",
              "      <td>00039966-101C-E911-80C7-00155D619677</td>\n",
              "      <td>1.0</td>\n",
              "      <td>4.00</td>\n",
              "      <td>26.0</td>\n",
              "      <td>0.0</td>\n",
              "      <td>0.0</td>\n",
              "      <td>0.0</td>\n",
              "      <td>3.0</td>\n",
              "      <td>0.0</td>\n",
              "      <td>0</td>\n",
              "    </tr>\n",
              "    <tr>\n",
              "      <th>3</th>\n",
              "      <td>2020|27</td>\n",
              "      <td>000906F6-40B5-EA11-80D0-00155D61134E</td>\n",
              "      <td>8.0</td>\n",
              "      <td>2.00</td>\n",
              "      <td>25.0</td>\n",
              "      <td>41.0</td>\n",
              "      <td>0.0</td>\n",
              "      <td>0.0</td>\n",
              "      <td>0.0</td>\n",
              "      <td>0.0</td>\n",
              "      <td>0</td>\n",
              "    </tr>\n",
              "    <tr>\n",
              "      <th>4</th>\n",
              "      <td>2020|27</td>\n",
              "      <td>0009F07C-A37B-E911-80CA-00155D7CD320</td>\n",
              "      <td>4.0</td>\n",
              "      <td>1.75</td>\n",
              "      <td>54.0</td>\n",
              "      <td>27.0</td>\n",
              "      <td>0.0</td>\n",
              "      <td>0.0</td>\n",
              "      <td>0.0</td>\n",
              "      <td>0.0</td>\n",
              "      <td>0</td>\n",
              "    </tr>\n",
              "  </tbody>\n",
              "</table>\n",
              "</div>"
            ],
            "text/plain": [
              "      week  ... transactions_dummy\n",
              "0  2020|27  ...                  0\n",
              "1  2020|27  ...                  0\n",
              "2  2020|27  ...                  0\n",
              "3  2020|27  ...                  0\n",
              "4  2020|27  ...                  0\n",
              "\n",
              "[5 rows x 11 columns]"
            ]
          },
          "metadata": {
            "tags": []
          },
          "execution_count": 38
        }
      ]
    },
    {
      "cell_type": "code",
      "metadata": {
        "id": "_OXcCWnI4qkR",
        "colab_type": "code",
        "colab": {
          "base_uri": "https://localhost:8080/",
          "height": 228
        },
        "outputId": "b6ccf483-8046-4d65-8d12-8feb623de20e"
      },
      "source": [
        "projelogi_1.isnull().sum()"
      ],
      "execution_count": 39,
      "outputs": [
        {
          "output_type": "execute_result",
          "data": {
            "text/plain": [
              "week                     0\n",
              "user_id                  0\n",
              "sessions                 0\n",
              "page_session            15\n",
              "avg_session_duration    15\n",
              "product_view             0\n",
              "product_click            0\n",
              "add_to_cart              0\n",
              "product_checkout         0\n",
              "transactions             0\n",
              "transactions_dummy       0\n",
              "dtype: int64"
            ]
          },
          "metadata": {
            "tags": []
          },
          "execution_count": 39
        }
      ]
    },
    {
      "cell_type": "code",
      "metadata": {
        "id": "u8IxgeAK5R4p",
        "colab_type": "code",
        "colab": {
          "base_uri": "https://localhost:8080/",
          "height": 334
        },
        "outputId": "4f70e7c8-4ce7-40ed-aede-3039c8ac53bc"
      },
      "source": [
        "projelogi_1=projelogi_1.dropna(subset=[\"page_session\",\"avg_session_duration\"])\n",
        "projelogi_1.info()"
      ],
      "execution_count": 40,
      "outputs": [
        {
          "output_type": "stream",
          "text": [
            "<class 'pandas.core.frame.DataFrame'>\n",
            "Int64Index: 154744 entries, 0 to 154758\n",
            "Data columns (total 11 columns):\n",
            " #   Column                Non-Null Count   Dtype  \n",
            "---  ------                --------------   -----  \n",
            " 0   week                  154744 non-null  object \n",
            " 1   user_id               154744 non-null  object \n",
            " 2   sessions              154744 non-null  float64\n",
            " 3   page_session          154744 non-null  float64\n",
            " 4   avg_session_duration  154744 non-null  float64\n",
            " 5   product_view          154744 non-null  float64\n",
            " 6   product_click         154744 non-null  float64\n",
            " 7   add_to_cart           154744 non-null  float64\n",
            " 8   product_checkout      154744 non-null  float64\n",
            " 9   transactions          154744 non-null  float64\n",
            " 10  transactions_dummy    154744 non-null  int64  \n",
            "dtypes: float64(8), int64(1), object(2)\n",
            "memory usage: 14.2+ MB\n"
          ],
          "name": "stdout"
        }
      ]
    },
    {
      "cell_type": "code",
      "metadata": {
        "id": "-HmURYRIiL5w",
        "colab_type": "code",
        "colab": {
          "base_uri": "https://localhost:8080/",
          "height": 263
        },
        "outputId": "3b7a1d51-3059-482c-c2be-3d2d0dc30286"
      },
      "source": [
        "X = projelogi_1[['sessions', 'page_session', 'avg_session_duration','product_view','product_click','add_to_cart','product_checkout']]\n",
        "y = projelogi_1.transactions_dummy\n",
        "print(X[:5])\n",
        "print(y[:5])"
      ],
      "execution_count": 42,
      "outputs": [
        {
          "output_type": "stream",
          "text": [
            "   sessions  page_session  ...  add_to_cart  product_checkout\n",
            "0       3.0          1.00  ...          0.0               0.0\n",
            "1       4.0          4.50  ...          0.0               0.0\n",
            "2       1.0          4.00  ...          0.0               3.0\n",
            "3       8.0          2.00  ...          0.0               0.0\n",
            "4       4.0          1.75  ...          0.0               0.0\n",
            "\n",
            "[5 rows x 7 columns]\n",
            "0    0\n",
            "1    0\n",
            "2    0\n",
            "3    0\n",
            "4    0\n",
            "Name: transactions_dummy, dtype: int64\n"
          ],
          "name": "stdout"
        }
      ]
    },
    {
      "cell_type": "code",
      "metadata": {
        "id": "wu3dJ02ojxqU",
        "colab_type": "code",
        "colab": {
          "base_uri": "https://localhost:8080/",
          "height": 263
        },
        "outputId": "b023b37e-1c61-4446-8c26-a86ec2e67d72"
      },
      "source": [
        "X = projelogi_1[['sessions','page_session','product_view','product_click','add_to_cart','product_checkout']]\n",
        "y = projelogi_1.transactions_dummy\n",
        "print(X[:5])\n",
        "print(y[:5])"
      ],
      "execution_count": 43,
      "outputs": [
        {
          "output_type": "stream",
          "text": [
            "   sessions  page_session  ...  add_to_cart  product_checkout\n",
            "0       3.0          1.00  ...          0.0               0.0\n",
            "1       4.0          4.50  ...          0.0               0.0\n",
            "2       1.0          4.00  ...          0.0               3.0\n",
            "3       8.0          2.00  ...          0.0               0.0\n",
            "4       4.0          1.75  ...          0.0               0.0\n",
            "\n",
            "[5 rows x 6 columns]\n",
            "0    0\n",
            "1    0\n",
            "2    0\n",
            "3    0\n",
            "4    0\n",
            "Name: transactions_dummy, dtype: int64\n"
          ],
          "name": "stdout"
        }
      ]
    },
    {
      "cell_type": "markdown",
      "metadata": {
        "id": "rcHJbhvgDGtj",
        "colab_type": "text"
      },
      "source": [
        "Fiilna with 0 yapılcak page_session ve avg session kontrol edilecek\n"
      ]
    },
    {
      "cell_type": "code",
      "metadata": {
        "id": "XtvihnUcp3V6",
        "colab_type": "code",
        "colab": {}
      },
      "source": [
        "from sklearn.neighbors import KNeighborsClassifier\n",
        "komsular = KNeighborsClassifier(n_neighbors=10)\n"
      ],
      "execution_count": 59,
      "outputs": []
    },
    {
      "cell_type": "code",
      "metadata": {
        "id": "wRPBNKgdqGCp",
        "colab_type": "code",
        "colab": {
          "base_uri": "https://localhost:8080/",
          "height": 70
        },
        "outputId": "7741b504-85ce-4ea4-ad91-11df9c62b284"
      },
      "source": [
        "projelogi_1.transactions_dummy.value_counts()"
      ],
      "execution_count": 60,
      "outputs": [
        {
          "output_type": "execute_result",
          "data": {
            "text/plain": [
              "0    141715\n",
              "1     13029\n",
              "Name: transactions_dummy, dtype: int64"
            ]
          },
          "metadata": {
            "tags": []
          },
          "execution_count": 60
        }
      ]
    },
    {
      "cell_type": "code",
      "metadata": {
        "id": "Gw59AFRQjUV4",
        "colab_type": "code",
        "colab": {}
      },
      "source": [
        "from sklearn.model_selection import train_test_split\n",
        "X_train, X_test, y_train, y_test = train_test_split(X, y, test_size=0.2, random_state = 40)"
      ],
      "execution_count": 61,
      "outputs": []
    },
    {
      "cell_type": "code",
      "metadata": {
        "id": "1oeU-P3CjWeQ",
        "colab_type": "code",
        "colab": {
          "base_uri": "https://localhost:8080/",
          "height": 70
        },
        "outputId": "43d0daa4-eeba-43d2-e23c-b70b3166e37a"
      },
      "source": [
        "from sklearn.neighbors import KNeighborsClassifier\n",
        "knn = KNeighborsClassifier(n_neighbors = 20)\n",
        "knn.fit(X_train,y_train)"
      ],
      "execution_count": 72,
      "outputs": [
        {
          "output_type": "execute_result",
          "data": {
            "text/plain": [
              "KNeighborsClassifier(algorithm='auto', leaf_size=30, metric='minkowski',\n",
              "                     metric_params=None, n_jobs=None, n_neighbors=20, p=2,\n",
              "                     weights='uniform')"
            ]
          },
          "metadata": {
            "tags": []
          },
          "execution_count": 72
        }
      ]
    },
    {
      "cell_type": "code",
      "metadata": {
        "id": "bUybkQBQsoD3",
        "colab_type": "code",
        "colab": {
          "base_uri": "https://localhost:8080/",
          "height": 34
        },
        "outputId": "a153ce94-826c-4328-ee30-e897c9add394"
      },
      "source": [
        "knn.score(X_test, y_test)\n"
      ],
      "execution_count": 73,
      "outputs": [
        {
          "output_type": "execute_result",
          "data": {
            "text/plain": [
              "0.9274936185337168"
            ]
          },
          "metadata": {
            "tags": []
          },
          "execution_count": 73
        }
      ]
    },
    {
      "cell_type": "code",
      "metadata": {
        "id": "SxLcDzIJs2ht",
        "colab_type": "code",
        "colab": {
          "base_uri": "https://localhost:8080/",
          "height": 52
        },
        "outputId": "d6cb6f5c-54c2-42b9-e17a-c9ce23628341"
      },
      "source": [
        "from sklearn.model_selection import cross_val_score\n",
        "cvscores_3 = cross_val_score(knn, X_test, y_test, cv=3)\n",
        "print('cv =  3 ---> Ortalama çarpraz doğrulama skoru : ', np.mean(cvscores_3))\n",
        "\n",
        "# Perform 10-fold CV\n",
        "cvscores_10 = cross_val_score(knn, X_test, y_test, cv=10)\n",
        "print('cv = 10 ---> Ortalama çarpraz doğrulama skoru : ', np.mean(cvscores_10))"
      ],
      "execution_count": 65,
      "outputs": [
        {
          "output_type": "stream",
          "text": [
            "cv =  3 ---> Ortalama çarpraz doğrulama skoru :  0.9222915565710069\n",
            "cv = 10 ---> Ortalama çarpraz doğrulama skoru :  0.9224854191707751\n"
          ],
          "name": "stdout"
        }
      ]
    },
    {
      "cell_type": "code",
      "metadata": {
        "id": "_z001IcIs-Oq",
        "colab_type": "code",
        "colab": {}
      },
      "source": [
        "from sklearn.preprocessing import StandardScaler\n",
        "ss = StandardScaler()\n",
        "X_olcekli = ss.fit_transform(X)"
      ],
      "execution_count": 66,
      "outputs": []
    },
    {
      "cell_type": "code",
      "metadata": {
        "id": "hMafAQ8Fs_KR",
        "colab_type": "code",
        "colab": {
          "base_uri": "https://localhost:8080/",
          "height": 34
        },
        "outputId": "f5821914-327d-471e-cd5f-e178de806c01"
      },
      "source": [
        "X_train_olcekli, X_test_olcekli, y_train, y_test = train_test_split(X_olcekli, y, test_size=0.2, random_state = 40)\n",
        "\n",
        "knn = KNeighborsClassifier(n_neighbors = 10)\n",
        "knn.fit(X_train_olcekli,y_train)\n",
        "knn.score(X_test_olcekli, y_test)"
      ],
      "execution_count": 68,
      "outputs": [
        {
          "output_type": "execute_result",
          "data": {
            "text/plain": [
              "0.9270089502084073"
            ]
          },
          "metadata": {
            "tags": []
          },
          "execution_count": 68
        }
      ]
    },
    {
      "cell_type": "code",
      "metadata": {
        "id": "iq_rtJ_StKe3",
        "colab_type": "code",
        "colab": {}
      },
      "source": [
        "komsu_sayisi = np.arange(8, 17)\n",
        "egitim_kumesi_skoru = np.empty(len(komsu_sayisi))\n",
        "test_kumesi_skoru = np.empty(len(komsu_sayisi))"
      ],
      "execution_count": 69,
      "outputs": []
    },
    {
      "cell_type": "code",
      "metadata": {
        "id": "eerUhT71tSJw",
        "colab_type": "code",
        "colab": {}
      },
      "source": [
        "for i, k in enumerate(komsu_sayisi):\n",
        "    knn = KNeighborsClassifier(n_neighbors=k)\n",
        "    knn.fit(X_train, y_train)\n",
        "    egitim_kumesi_skoru[i] = knn.score(X_train, y_train)\n",
        "\n",
        "    #Compute accuracy on the testing set\n",
        "    test_kumesi_skoru[i] = knn.score(X_test, y_test)"
      ],
      "execution_count": 70,
      "outputs": []
    },
    {
      "cell_type": "code",
      "metadata": {
        "id": "qoSOV-K7tT7C",
        "colab_type": "code",
        "colab": {
          "base_uri": "https://localhost:8080/",
          "height": 508
        },
        "outputId": "a77246da-19e0-4c98-e8b9-301c9c55591b"
      },
      "source": [
        "plt.figure(figsize=(7,3), dpi = 100)\n",
        "plt.plot(komsu_sayisi, test_kumesi_skoru, label = 'Test kümesi')\n",
        "plt.plot(komsu_sayisi, egitim_kumesi_skoru, label = 'Eğitim kümesi')\n",
        "plt.legend()\n",
        "plt.title('Komşu Sayılarına Göre Model Skoru (k-NN)', fontdict= baslik_font)\n",
        "plt.xlabel('Komşu Sayısı', fontdict= eksen_font)\n",
        "plt.ylabel('Doğruluk', fontdict= eksen_font)\n",
        "plt.show()"
      ],
      "execution_count": 71,
      "outputs": [
        {
          "output_type": "error",
          "ename": "NameError",
          "evalue": "ignored",
          "traceback": [
            "\u001b[0;31m---------------------------------------------------------------------------\u001b[0m",
            "\u001b[0;31mNameError\u001b[0m                                 Traceback (most recent call last)",
            "\u001b[0;32m<ipython-input-71-7bb61988f56f>\u001b[0m in \u001b[0;36m<module>\u001b[0;34m()\u001b[0m\n\u001b[1;32m      3\u001b[0m \u001b[0mplt\u001b[0m\u001b[0;34m.\u001b[0m\u001b[0mplot\u001b[0m\u001b[0;34m(\u001b[0m\u001b[0mkomsu_sayisi\u001b[0m\u001b[0;34m,\u001b[0m \u001b[0megitim_kumesi_skoru\u001b[0m\u001b[0;34m,\u001b[0m \u001b[0mlabel\u001b[0m \u001b[0;34m=\u001b[0m \u001b[0;34m'Eğitim kümesi'\u001b[0m\u001b[0;34m)\u001b[0m\u001b[0;34m\u001b[0m\u001b[0;34m\u001b[0m\u001b[0m\n\u001b[1;32m      4\u001b[0m \u001b[0mplt\u001b[0m\u001b[0;34m.\u001b[0m\u001b[0mlegend\u001b[0m\u001b[0;34m(\u001b[0m\u001b[0;34m)\u001b[0m\u001b[0;34m\u001b[0m\u001b[0;34m\u001b[0m\u001b[0m\n\u001b[0;32m----> 5\u001b[0;31m \u001b[0mplt\u001b[0m\u001b[0;34m.\u001b[0m\u001b[0mtitle\u001b[0m\u001b[0;34m(\u001b[0m\u001b[0;34m'Komşu Sayılarına Göre Model Skoru (k-NN)'\u001b[0m\u001b[0;34m,\u001b[0m \u001b[0mfontdict\u001b[0m\u001b[0;34m=\u001b[0m \u001b[0mbaslik_font\u001b[0m\u001b[0;34m)\u001b[0m\u001b[0;34m\u001b[0m\u001b[0;34m\u001b[0m\u001b[0m\n\u001b[0m\u001b[1;32m      6\u001b[0m \u001b[0mplt\u001b[0m\u001b[0;34m.\u001b[0m\u001b[0mxlabel\u001b[0m\u001b[0;34m(\u001b[0m\u001b[0;34m'Komşu Sayısı'\u001b[0m\u001b[0;34m,\u001b[0m \u001b[0mfontdict\u001b[0m\u001b[0;34m=\u001b[0m \u001b[0meksen_font\u001b[0m\u001b[0;34m)\u001b[0m\u001b[0;34m\u001b[0m\u001b[0;34m\u001b[0m\u001b[0m\n\u001b[1;32m      7\u001b[0m \u001b[0mplt\u001b[0m\u001b[0;34m.\u001b[0m\u001b[0mylabel\u001b[0m\u001b[0;34m(\u001b[0m\u001b[0;34m'Doğruluk'\u001b[0m\u001b[0;34m,\u001b[0m \u001b[0mfontdict\u001b[0m\u001b[0;34m=\u001b[0m \u001b[0meksen_font\u001b[0m\u001b[0;34m)\u001b[0m\u001b[0;34m\u001b[0m\u001b[0;34m\u001b[0m\u001b[0m\n",
            "\u001b[0;31mNameError\u001b[0m: name 'baslik_font' is not defined"
          ]
        },
        {
          "output_type": "display_data",
          "data": {
            "image/png": "[encoded data removed]",
            "text/plain": [
              "<Figure size 700x300 with 1 Axes>"
            ]
          },
          "metadata": {
            "tags": [],
            "needs_background": "light"
          }
        }
      ]
    },
    {
      "cell_type": "code",
      "metadata": {
        "id": "G3DYeoyXt_DT",
        "colab_type": "code",
        "colab": {}
      },
      "source": [
        ""
      ],
      "execution_count": null,
      "outputs": []
    }
  ]
}